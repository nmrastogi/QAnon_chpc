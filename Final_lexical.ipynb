{
 "cells": [
  {
   "cell_type": "markdown",
   "metadata": {},
   "source": [
    "# Dotwin posts"
   ]
  },
  {
   "cell_type": "code",
   "execution_count": null,
   "metadata": {},
   "outputs": [],
   "source": [
    "Total number of tokens from title and content: 4786085\n",
    "Total combined category counts for both 'title' and 'content' columns:\n",
    "fusion                     5353\n",
    "violence                   9259\n",
    "identification1               0\n",
    "identification2               0\n",
    "slurs                      1698\n",
    "demonisation               9930\n",
    "dehumanisation             3682\n",
    "existential_threat         3516\n",
    "conspiracy                12758\n",
    "inevitable_war1            8799\n",
    "inevitable_war2           14590\n",
    "violence_justification     2464\n",
    "martyr                      546\n",
    "violent_role_model1         427\n",
    "violent_role_model2        4259\n",
    "hopelessness1              9383\n",
    "hopelessness2              4692\n",
    "dtype: int64"
   ]
  },
  {
   "cell_type": "markdown",
   "metadata": {},
   "source": [
    "## Dotwin comments"
   ]
  },
  {
   "cell_type": "code",
   "execution_count": null,
   "metadata": {},
   "outputs": [],
   "source": [
    "Total number of tokens from content: 20801582\n",
    "Total combined category counts for content column:\n",
    "fusion                    23647\n",
    "violence                  45157\n",
    "identification1               0\n",
    "identification2               0\n",
    "slurs                     12196\n",
    "demonisation              47021\n",
    "dehumanisation            21499\n",
    "existential_threat        15759\n",
    "conspiracy                54718\n",
    "inevitable_war1           32965\n",
    "inevitable_war2           75216\n",
    "violence_justification     7900\n",
    "martyr                     2196\n",
    "violent_role_model1        2701\n",
    "violent_role_model2       16687\n",
    "hopelessness1             35465\n",
    "hopelessness2             23467"
   ]
  },
  {
   "cell_type": "code",
   "execution_count": null,
   "metadata": {},
   "outputs": [],
   "source": [
    "Total=227178-219022+1596665-1537572 "
   ]
  },
  {
   "cell_type": "code",
   "execution_count": 1,
   "metadata": {},
   "outputs": [
    {
     "data": {
      "text/plain": [
       "67249"
      ]
     },
     "execution_count": 1,
     "metadata": {},
     "output_type": "execute_result"
    }
   ],
   "source": [
    "227178-219022+1596665-1537572 "
   ]
  },
  {
   "cell_type": "code",
   "execution_count": 1,
   "metadata": {},
   "outputs": [
    {
     "data": {
      "text/plain": [
       "1756594"
      ]
     },
     "execution_count": 1,
     "metadata": {},
     "output_type": "execute_result"
    }
   ],
   "source": [
    "219022+1537572 "
   ]
  },
  {
   "cell_type": "code",
   "execution_count": 1,
   "metadata": {},
   "outputs": [
    {
     "data": {
      "text/plain": [
       "25587667"
      ]
     },
     "execution_count": 1,
     "metadata": {},
     "output_type": "execute_result"
    }
   ],
   "source": [
    "4786085+20801582"
   ]
  },
  {
   "cell_type": "code",
   "execution_count": 2,
   "metadata": {},
   "outputs": [
    {
     "data": {
      "text/plain": [
       "1.985136042297252"
      ]
     },
     "execution_count": 2,
     "metadata": {},
     "output_type": "execute_result"
    }
   ],
   "source": [
    "507950/25587667*100"
   ]
  },
  {
   "cell_type": "code",
   "execution_count": null,
   "metadata": {},
   "outputs": [],
   "source": []
  }
 ],
 "metadata": {
  "kernelspec": {
   "display_name": "new_env",
   "language": "python",
   "name": "python3"
  },
  "language_info": {
   "codemirror_mode": {
    "name": "ipython",
    "version": 3
   },
   "file_extension": ".py",
   "mimetype": "text/x-python",
   "name": "python",
   "nbconvert_exporter": "python",
   "pygments_lexer": "ipython3",
   "version": "undefined.undefined.undefined"
  }
 },
 "nbformat": 4,
 "nbformat_minor": 2
}
