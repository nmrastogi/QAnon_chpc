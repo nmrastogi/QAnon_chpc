{
 "cells": [
  {
   "cell_type": "code",
   "execution_count": null,
   "metadata": {},
   "outputs": [],
   "source": [
    "fusion = [\"brother\", \"sister\", \"family\", \"motherland\", \"our blood\", \"fatherland\", \"sons\", \"daughters\", \"kin\", \"my people\", \"my race\", \"our people\", \"European race\", \"ancestry\", \"ancestor\", \"descendant\", \"fellow\", \"brethren\", \"comrades\"]\n",
    "violence = [\"kill\", \"hang\", \"bomb\", \"shoot\", \"slaughter\", \"execute\", \"execution\", \"punish\", \"death penalty\", \"massacre\", \"destroy\", \"must attack\", \"must fight\", \"revenge\", \"retribution\", \"eradicate\", \"starve\", \"die\", \"torture\", \"behead\", \"burn\", \"bring death to\", \"give them hell\", \"weapon\", \"firearm\", \"assassinate\", \"gun\", \"rifle\", \"knife\", \"grenade\", \"brutal steps\", \"molotov\", \"jihaad\", \"jihad\", \"set fire\", \"revolution\", \"forcible overthrow\", \"flamethrowers\", \"M1-16\", \"ammonium nitrate\"]\n",
    "identification1 = [\"\\\\bwe\\\\b\", \"\\\\bus\\\\b\", \"\\\\bour\\\\b\", \"\\\\bthey\\\\b\", \"\\\\bthem\\\\b\", \"\\\\btheir\\\\b\"]\n",
    "identification2 = [\"\\\\bI\\\\b\", \"\\\\bme\\\\b\", \"\\\\bmy\\\\b\", \"\\\\byou\\\\b\", \"\\\\byour\\\\b\"]\n",
    "slurs = [\"kike\", \"nigger\", \"negro\", \"dirty jew\", \"spic\", \"fag\", \"goyim\", \"golem\", \"the jew\", \"global jewry\", \"pajeet\", \"bitch\", \"whore\"]\n",
    "demonisation = [\"traitor\", \"evil\", \"enemy\", \"corrupt\", \"vicious\", \"barbaric\", \"depraved\", \"vile\", \"puppets\", \"perversion\", \"blood libel\", \"pervert\", \"pedo\", \"crime\", \"cruel\", \"bloody\", \"genocidal\", \"sinful\", \"deceitful\", \"invader\", \"poison\", \"parasite\", \"menace\", \"brutal\", \"ruthless\", \"bloodsucking\", \"dirty\", \"deceptive\", \"treacherous\", \"poisonous\", \"oppressive\", \"oppressor\", \"shird\", \"unbeliever\", \"immoral\", \"jahili\", \"pollute\", \"demolish\", \"shake the foundations\", \"dar ul-harb\", \"arrogant\", \"mischievous\", \"criminal\", \"deceivers\", \"liars\"]\n",
    "dehumanisation = [\"animal\", \"plague\", \"impure\", \"brute\", \"dog\", \"lower iq\", \"lower being\", \"inferior\", \"squalid\", \"parasitic\", \"parasite\", \"creature\", \"trash\", \"filth\", \"vermin\", \"spider\", \"devil\", \"monster\", \"beast\", \"reptile\", \"reptiloid\", \"femoid\", \"reptilian\", \"snake\", \"cockroach\", \"beneath human skin\", \"sub human\", \"anti-human\", \"disease\", \"savage\", \"infest\", \"breed\", \"locust\", \"monkey\", \"gorilla\", \"rat\", \"microbe\", \"satan\", \"cancer\", \"scum\"]\n",
    "existential_threat = [\"subjected to\", \"coerced\", \"brainwashed\", \"exterminated\", \"brutalised\", \"raped\", \"terrorised\", \"ravaged\", \"extinction\", \"replacement\", \"genocide\", \"robbed\", \"subjugate\", \"make war upon my people\", \"destroy\", \"subvert\", \"overwhelmed\", \"under siege\", \"demographic siege\", \"disenfranchise\", \"assault\", \"kill us\", \"kill our\", \"kill my\", \"running out of time\", \"run out of time\", \"last chance\", \"enslavement\", \"enslaved\", \"suffer\", \"plunder\", \"condemned to death\", \"destruction of all mankind\", \"at the brink of\", \"endanger\", \"annihilation\", \"decay\"]\n",
    "conspiracy = [\"betray\", \"betrayal\", \"sell\", \"sold\", \"collude\", \"conspire\", \"fake\", \"fraud\", \"corruption\", \"corrupt\", \"zog\", \"great replacement\", \"white genocide\", \"kalergi\", \"pedo elites\", \"NWO\", \"illuminati\", \"inside job\", \"Eurabia\"]\n",
    "inevitable_war1 = [\"war\", \"battle\", \"fight\", \"jihad\", \"jihaad\", \"collapse\", \"conflict\"]\n",
    "inevitable_war2 = [\"imminent\", \"inevitable\", \"looming\", \"start\", \"begin\", \"already\", \"heading for\", \"ongoing\", \"stage\", \"phase\", \"when\", \"has been\", \"likely\", \"predict\", \"expect\", \"will happen\", \"has begun\", \"current\", \"impending\"]\n",
    "violence_justification = [\"pre-emptive\", \"defend\", \"protect\", \"self-defense\", \"self-defence\", \"forced to fight\", \"no longer ignore\", \"act of defense\", \"purified\", \"purify\", \"need for war\", \"need for violence\", \"need for jihad\", \"struggle is imposed\", \"natural struggle\", \"cannot co-exist\"]\n",
    "martyr = [\"die in glory\", \"sacrifice\", \"knight\", \"martyr\", \"die selflessly\", \"protecting our people\", \"immortal\", \"preserve\", \"act of preservation\", \"defend the world of the Lord\", \"defending the work of the Lord\", \"stand guard\", \"standing guard\", \"the herald\", \"release mankind from\", \"free from\", \"freed from\"]\n",
    "violent_role_model1 = [\"breivik\", \"tarrant\", \"hitler\", \"crusius\", \"rodger\", \"baillet\", \"earnest\", \"minassian\", \"mcveigh\", \"christchurch\", \"poway\", \"el paso\"]\n",
    "violent_role_model2 = [\"hero\", \"role model\", \"saint\", \"inspire\", \"inspiration\", \"inspiring\", \"support\", \"influenced\"]\n",
    "hopelessness1 = [\"democracy\", \"democratic\", \"peaceful\", \"political\", \"system\", \"politics\", \"dialogue\", \"passivity\"]\n",
    "hopelessness2 = [\"meaningless\", \"weak\", \"fail\", \"end\", \"vanish\", \"man-made\", \"flawed\", \"jahili\", \"given up\"]\n",
    "# Add other dictionaries if needed, similar to the ones above"
   ]
  }
 ],
 "metadata": {
  "kernelspec": {
   "display_name": "new_env",
   "language": "python",
   "name": "python3"
  },
  "language_info": {
   "name": "python",
   "version": "3.9.20"
  }
 },
 "nbformat": 4,
 "nbformat_minor": 2
}
